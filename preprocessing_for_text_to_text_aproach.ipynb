{
 "cells": [
  {
   "cell_type": "markdown",
   "metadata": {},
   "source": [
    "### Preprocessing data for tweet sentiment analysis"
   ]
  },
  {
   "cell_type": "code",
   "execution_count": 1,
   "metadata": {},
   "outputs": [
    {
     "name": "stderr",
     "output_type": "stream",
     "text": [
      "/Users/minkijung/anaconda3/envs/runpod/lib/python3.12/site-packages/tqdm/auto.py:21: TqdmWarning: IProgress not found. Please update jupyter and ipywidgets. See https://ipywidgets.readthedocs.io/en/stable/user_install.html\n",
      "  from .autonotebook import tqdm as notebook_tqdm\n"
     ]
    }
   ],
   "source": [
    "from datasets import load_dataset, load_from_disk\n",
    "from transformers import AutoTokenizer\n",
    "import matplotlib.pyplot as plt\n",
    "import torch\n",
    "import re"
   ]
  },
  {
   "cell_type": "code",
   "execution_count": 2,
   "metadata": {},
   "outputs": [],
   "source": [
    "tokenizer = AutoTokenizer.from_pretrained(\n",
    "    \"google/flan-t5-base\",\n",
    "    padding_side=\"left\",  # putting paddings on left to predict the sentiment right after\n",
    ")"
   ]
  },
  {
   "cell_type": "code",
   "execution_count": 3,
   "metadata": {},
   "outputs": [
    {
     "name": "stdout",
     "output_type": "stream",
     "text": [
      "==>> dataset: DatasetDict({\n",
      "    train: Dataset({\n",
      "        features: ['text', 'label'],\n",
      "        num_rows: 9543\n",
      "    })\n",
      "    validation: Dataset({\n",
      "        features: ['text', 'label'],\n",
      "        num_rows: 2388\n",
      "    })\n",
      "})\n"
     ]
    }
   ],
   "source": [
    "dataset = load_dataset(\"zeroshot/twitter-financial-news-sentiment\")\n",
    "print(f\"==>> dataset: {dataset}\")"
   ]
  },
  {
   "cell_type": "code",
   "execution_count": 4,
   "metadata": {},
   "outputs": [
    {
     "name": "stdout",
     "output_type": "stream",
     "text": [
      "==>> dataset: DatasetDict({\n",
      "    train: Dataset({\n",
      "        features: ['text', 'labels'],\n",
      "        num_rows: 9543\n",
      "    })\n",
      "    validation: Dataset({\n",
      "        features: ['text', 'labels'],\n",
      "        num_rows: 2388\n",
      "    })\n",
      "})\n"
     ]
    }
   ],
   "source": [
    "# change the key label to labels\n",
    "dataset = dataset.rename_column(\"label\", \"labels\")\n",
    "print(f\"==>> dataset: {dataset}\")"
   ]
  },
  {
   "cell_type": "code",
   "execution_count": 5,
   "metadata": {},
   "outputs": [],
   "source": [
    "# remove url from dataset\n",
    "def remove_url(example):\n",
    "    example[\"text\"] = re.sub(r\"https?://\\S+\", \"\", example[\"text\"])\n",
    "    return example\n",
    "\n",
    "dataset = dataset.map(remove_url)"
   ]
  },
  {
   "cell_type": "code",
   "execution_count": 6,
   "metadata": {},
   "outputs": [
    {
     "data": {
      "image/png": "[encoded data removed]",
      "text/plain": [
       "<Figure size 640x480 with 1 Axes>"
      ]
     },
     "metadata": {},
     "output_type": "display_data"
    }
   ],
   "source": [
    "# Check the lengths of the each text\n",
    "lengths = [\n",
    "    len(tokenizer.encode(text))\n",
    "    for text in dataset[\"train\"][\"text\"] # consider only train since in real senario we only have train data\n",
    "]\n",
    "\n",
    "plt.hist(lengths, bins=30)\n",
    "plt.show()"
   ]
  },
  {
   "cell_type": "code",
   "execution_count": 7,
   "metadata": {},
   "outputs": [
    {
     "name": "stdout",
     "output_type": "stream",
     "text": [
      "length 129\n",
      "A Tokióban található teamLab Planets, a múzeum, ahol a víz a kiállítási közeg, idén tavasszal egy kis időre cseresznyevirág-szirmokba öltözik. A kiállítás 2020. március 1-től tekinthető meg.\n",
      "2\n",
      "----\n",
      "length 81\n",
      "Riassunto: Le giapponesi NEDO e Panasonic raggiungono il più alto rendimento di conversione al mondo, pari al 16,09%, per il modulo a celle solari perovskitiche dalla superficie più estesa\n",
      "2\n",
      "----\n",
      "length 74\n",
      "Upgrades 11/25: $ARWR $CACI $CF $DECK $DKS $ENR $EQM $ETRN $FE $HAS $HLX $JD $KIM $LYFT $NTR $NVDA $ORAN $PROS $SNAP $WEN $WING $WRI $ZS\n",
      "1\n",
      "----\n",
      "length 68\n",
      "Upgrades 4/7: $AMT $BHP $BK $CHH $ENI $EQNR $ETR $EXR $FCX $HOLX $HSIC $LOW $LSI $MAR $MAS $MGP $MHK $MXL $NGG $NWE… \n",
      "1\n",
      "----\n",
      "length 67\n",
      "Samenvatting: Japanse NEDO en Panasonic behalen ‘s werelds hoogste conversie-efficiëntie van 16,09% voor grootste zonnecelmodule met Perovskite per gebied\n",
      "2\n",
      "----\n",
      "length 66\n",
      "+Initiations 11/25: $ARVN $AZRE $BHE $BMY-R $CHGG $EVR $FLXN $GBT $GOOS $IMBI $LULU $MMP $OPK $OYST $PRPL $QIWI… \n",
      "2\n",
      "----\n",
      "length 65\n",
      "$SPY $DIA $QQQ $AAPL $SOXX $XRT $ULTA $TNX $USDX $WTI #NonfarmPayrolls #NonfarmPrivatePayrolls #AvgHourlyEarnings… \n",
      "2\n",
      "----\n",
      "length 64\n",
      "Downgrades 11/25: $AEO $COLM $DGII $EQT $ESS $EVRG $GTT $KRG $MANT $MDCO $NFLX $OMP $PEG $PRU $SBT $SITC $TAP $VIPS\n",
      "0\n",
      "----\n",
      "length 64\n",
      "Downgrades 4/7: $MLND $MSGN $MTLS $O $OC $OVV $PEB $PK $PLYA $QEP $RHP $RPAI $SAIA $SDC $SHOP $SKY $SLG $SM $TWLO… \n",
      "0\n",
      "----\n",
      "length 64\n",
      "$SPY $AMTD $SCHW $TIF $LVMUY $MDCO $NVS $UBER $TNX $USDX $WTI $NIKKEI $HSCEI $SSEC $SENSEX $FTSE $DAX $CAC #China… \n",
      "2\n",
      "----\n",
      "length 63\n",
      "Upgrades 2/4: $AMAL $CM $CMCSA $ELF $GDOT $LFUS $MLI $RRR $TD $TXRH $VLY $WW Downgrades 2/4: $ABG $AWK $CHKP $DEO… \n",
      "2\n",
      "----\n",
      "length 63\n",
      "Mary Kay pokračuje ve svém závazku pomáhat ženám i na fóru iniciativy Global Compact OSN pro rovnoprávnost pohlaví\n",
      "2\n",
      "----\n",
      "length 63\n",
      "Takeda demonstra ímpeto nos negócios, sinergias de integração acelerada e eleva as orientações para o ano de 2019, incluindo lucro operacional positivo\n",
      "2\n",
      "----\n",
      "length 60\n",
      "Top Earnings Tu 11/26 Pre: $ADI $AMWD $ANF $BBY $BITA $BNS $BURL $CBRL $CHS $CTRN $DCIX $DKS $DLTR $DY $ESLT $EV… \n",
      "2\n",
      "----\n",
      "length 59\n",
      "RECAP 11/22 -Neg Comments:\n",
      "$BWA - Wolfe\n",
      "$ST - Wolfe\n",
      "$NVDA - Daiwa\n",
      "$STAY - Nomura\n",
      "$CAAP - Oppenheimer\n",
      "$SEDG - Williams Trading\n",
      "0\n",
      "----\n",
      "length 59\n",
      "RECAP 4/7 -Neg Comments:\n",
      "$JBSS - Sidoti\n",
      "$AAON - Lakewood\n",
      "$FFIN - Lakewood\n",
      "$KNSL - Lakewood\n",
      "$RLI - Lakewood\n",
      "$THFF -… \n",
      "0\n",
      "----\n",
      "length 57\n",
      "Top Analyst Upgrades and Downgrades: AbbVie, Biogen, Boeing, Etsy, Gilead, GoPro, Micron, Newmont, Peloton, Pfizer, Valero, Zynga and More\n",
      "2\n",
      "----\n",
      "length 57\n",
      "Anno record per il gruppo Iberchem, che perfeziona due acquisizioni nel segmento aromi e registra una crescita delle entrate pari al 19%\n",
      "2\n",
      "----\n",
      "length 54\n",
      "@tictoc @telefenoticias @teleSUR_Chile @PaoladrateleSUR @monlaferte @telefenoticias @inddhh @mbachelet\n",
      "2\n",
      "----\n",
      "length 54\n",
      "China Mengniu Dairy : DISCLOSEABLE TRANSACTION ACQUISITION OF LION-DAIRY & DRINKS PTY LTD ... #ChinaMengniuDairy… \n",
      "2\n",
      "----\n",
      "length 53\n",
      "Recordjaar voor de Iberchem-groep met voltooiing van de overname van twee smaakstoffenfabrikanten en 19% omzetgroei\n",
      "2\n",
      "----\n",
      "length 53\n",
      "Coca Cola Amatil : APPOINTMENT OF PENELOPE WINN TO COCA-COLA AMATIL BOARD #CocaColaAmatil #Stock #MarketScreener… \n",
      "2\n",
      "----\n",
      "length 53\n",
      "MMG : RESIGNATION OF KEY EXECUTIVE AND RE-DESIGNATION AS NON-EXECUTIVE DIRECTOR #MMG #Stock #MarketScreener… \n",
      "2\n",
      "----\n",
      "length 53\n",
      "RECAP 12/10 Unusual Calls:\n",
      "$QSR Dec 67.5 C\n",
      "$OXY Dec13 38.5 C\n",
      "$CL Mar 75 C\n",
      "$ARQL Apr 20 C\n",
      "$LPI Jan 3 C\n",
      "$JBLU Jan 20… \n",
      "1\n",
      "----\n",
      "length 53\n",
      "ICYMI, @ViacomCBS is now on Nasdaq $VIAC! \n",
      "\n",
      "👋 to\n",
      "\n",
      "@ParamountPics \n",
      "@MTV \n",
      "@Nickelodeon \n",
      "@ComedyCentral \n",
      "@BET… \n",
      "2\n",
      "----\n",
      "length 52\n",
      "Sino Harbour : VOLUNTARY ANNOUNCEMENT-INCREASE IN SHAREHOLDINGS BY A SUBSTANTIAL SHAREHOLDER #SinoHarbour #Stock… \n",
      "2\n",
      "----\n",
      "length 51\n",
      "ESR Cayman : PARTIAL EXERCISE OF THE OVER-ALLOTMENT OPTION, STABILIZING ACTIONS AND END OF STABILIZATION PERIOD… \n",
      "2\n",
      "----\n",
      "length 51\n",
      "Top Earnings Mon 11/25 Aft: $A $AMBA $ARWR $BECN $CAL $HPE $MNR $MTSC $NAT $NTNX $PANW $PVH $SR\n",
      "2\n",
      "----\n",
      "length 51\n",
      "RECAP 1/31 Unusual Puts: $F Mar 9 P $PAGP Feb 16 P $DB Feb 9 P $LK Mar 25 P $TME Feb 12 P $FTCH Jul 8 P $IBN Mar 14… \n",
      "0\n",
      "----\n",
      "length 51\n",
      "RECAP 11/22 Unusual Puts:\n",
      "$WMT Jan 120 P\n",
      "$BTU Feb 9 P\n",
      "$UBER Dec 28 P\n",
      "$GPS Mar 14 P\n",
      "$SPCE Dec 7.5 P\n",
      "$OLLI Dec 65 P… \n",
      "0\n",
      "----\n",
      "length 51\n",
      "$IMMU (+3.2% pre) FDA GRANTS FAST TRACK DESIGNATION TO SACITUZUMAB GOVITECAN FOR NEOADJUVANT/ADJUVANT METASTATIC UR… \n",
      "1\n",
      "----\n"
     ]
    }
   ],
   "source": [
    "# show texts that is longer than 50 tokens\n",
    "outliers = []\n",
    "for element in dataset[\"train\"]:\n",
    "    if len(tokenizer.encode(element[\"text\"])) > 50:\n",
    "        outliers.append(element)\n",
    "\n",
    "# sort the outliers by length of \"text\"\n",
    "outliers = sorted(\n",
    "    outliers, key=lambda x: len(tokenizer.encode(x[\"text\"])), reverse=True\n",
    ")\n",
    "\n",
    "for outlier in outliers:\n",
    "    print(\"length\", len(tokenizer.encode(outlier[\"text\"])))\n",
    "    print(outlier[\"text\"])\n",
    "    print(outlier[\"labels\"])\n",
    "    print(\"----\")"
   ]
  },
  {
   "cell_type": "markdown",
   "metadata": {},
   "source": [
    "There are some non-Enlgish data. However, it will be the same in validation dataset. I'll leave them so that the model will be more robust to non-english data.\n",
    "\n",
    "The indication of sentiment mostly locates in the begining of the sentence. Thus, I'll truncate text longer than 50. "
   ]
  },
  {
   "cell_type": "code",
   "execution_count": 8,
   "metadata": {},
   "outputs": [
    {
     "name": "stdout",
     "output_type": "stream",
     "text": [
      "6\n"
     ]
    }
   ],
   "source": [
    "# token length of \"TSA sentence: \"\n",
    "print(len(tokenizer.encode(\"TSA sentence: \"))) # this is a prefix that I will use to predict the sentiment with T5 model"
   ]
  },
  {
   "cell_type": "code",
   "execution_count": 9,
   "metadata": {},
   "outputs": [
    {
     "name": "stdout",
     "output_type": "stream",
     "text": [
      "==>> sorted_labels: [0, 1, 2]\n"
     ]
    }
   ],
   "source": [
    "dataset[\"train\"][\"labels\"]\n",
    "\n",
    "# sort labels by length\n",
    "sorted_labels = sorted(set(dataset[\"train\"][\"labels\"]))\n",
    "print(f\"==>> sorted_labels: {sorted_labels}\")"
   ]
  },
  {
   "cell_type": "markdown",
   "metadata": {},
   "source": [
    "I'm going to add a prefix token which takes 6 tokens. So the max length will be 56"
   ]
  },
  {
   "cell_type": "code",
   "execution_count": 10,
   "metadata": {},
   "outputs": [
    {
     "name": "stderr",
     "output_type": "stream",
     "text": [
      "Map:   0%|          | 0/9543 [00:00<?, ? examples/s]/Users/minkijung/anaconda3/envs/runpod/lib/python3.12/site-packages/transformers/tokenization_utils_base.py:3921: UserWarning: `as_target_tokenizer` is deprecated and will be removed in v5 of Transformers. You can tokenize your labels by using the argument `text_target` of the regular `__call__` method (either in the same call as your input texts if you use the same keyword arguments, or in a separate call.\n",
      "  warnings.warn(\n",
      "Map: 100%|██████████| 9543/9543 [00:00<00:00, 11023.02 examples/s]\n"
     ]
    }
   ],
   "source": [
    "def tokenize_function(examples):\n",
    "\n",
    "    examples_text = [\"TSA sentence: \" + text for text in examples[\"text\"]]\n",
    "\n",
    "    inputs = tokenizer(\n",
    "        examples_text,\n",
    "        padding=\"max_length\",\n",
    "        max_length=56,\n",
    "        truncation=True,\n",
    "        return_tensors=\"pt\",\n",
    "    )\n",
    "\n",
    "    # tokenized labels to be used in training\n",
    "    with tokenizer.as_target_tokenizer():\n",
    "        labels = tokenizer(\n",
    "            [str(label) for label in examples[\"labels\"]],\n",
    "            return_tensors=\"pt\",\n",
    "            truncation=True,\n",
    "            padding=\"max_length\",\n",
    "            max_length=3,\n",
    "        )\n",
    "\n",
    "    inputs[\"labels\"] = [label[1:] for label in labels[\"input_ids\"]]\n",
    "\n",
    "    return inputs\n",
    "\n",
    "\n",
    "tokenized_datasets = dataset.map(tokenize_function, batched=True)"
   ]
  },
  {
   "cell_type": "code",
   "execution_count": 11,
   "metadata": {},
   "outputs": [
    {
     "data": {
      "text/plain": [
       "[[632, 1], [632, 1], [632, 1]]"
      ]
     },
     "execution_count": 11,
     "metadata": {},
     "output_type": "execute_result"
    }
   ],
   "source": [
    "tokenized_datasets[\"train\"][\"labels\"][:3]"
   ]
  },
  {
   "cell_type": "code",
   "execution_count": 12,
   "metadata": {},
   "outputs": [
    {
     "name": "stderr",
     "output_type": "stream",
     "text": [
      "Saving the dataset (1/1 shards): 100%|██████████| 9543/9543 [00:00<00:00, 608486.52 examples/s]\n",
      "Saving the dataset (1/1 shards): 100%|██████████| 2388/2388 [00:00<00:00, 253261.81 examples/s]\n"
     ]
    }
   ],
   "source": [
    "#save the tokenized dataset\n",
    "tokenized_datasets.save_to_disk(\"tokenized_datasets\")"
   ]
  },
  {
   "cell_type": "code",
   "execution_count": 13,
   "metadata": {},
   "outputs": [
    {
     "name": "stdout",
     "output_type": "stream",
     "text": [
      "==>> tokenized_datasets: DatasetDict({\n",
      "    train: Dataset({\n",
      "        features: ['text', 'labels', 'input_ids', 'attention_mask'],\n",
      "        num_rows: 9543\n",
      "    })\n",
      "    validation: Dataset({\n",
      "        features: ['text', 'labels', 'input_ids', 'attention_mask'],\n",
      "        num_rows: 2388\n",
      "    })\n",
      "})\n"
     ]
    }
   ],
   "source": [
    "# load the tokenized dataset\n",
    "tokenized_datasets_new = load_from_disk(\"tokenized_datasets\")\n",
    "print(f\"==>> tokenized_datasets: {tokenized_datasets_new}\")"
   ]
  },
  {
   "cell_type": "code",
   "execution_count": 14,
   "metadata": {},
   "outputs": [
    {
     "name": "stdout",
     "output_type": "stream",
     "text": [
      "[[0, 0, 0, 0, 0, 0, 0, 0, 0, 0, 0, 0, 0, 0, 0, 0, 0, 0, 0, 0, 0, 0, 0, 0, 0, 0, 0, 0, 0, 0, 0, 0, 0, 332, 4507, 7142, 10, 1514, 279, 476, 10604, 3, 18, 446, 6218, 11127, 14495, 7, 16, 4454, 30, 13594, 1212, 144, 3, 1], [0, 0, 0, 0, 0, 0, 0, 0, 0, 0, 0, 0, 0, 0, 0, 0, 0, 0, 0, 0, 0, 0, 0, 0, 0, 0, 0, 0, 0, 332, 4507, 7142, 10, 1514, 2823, 434, 1514, 4902, 434, 3, 18, 465, 11054, 9, 979, 12, 5038, 7, 18724, 44, 26813, 11, 3671, 12802, 3, 1]]\n",
      "type of input_ids <class 'list'>\n"
     ]
    }
   ],
   "source": [
    "\n",
    "# check the tokenized dataset\n",
    "print(tokenized_datasets_new[\"train\"][\"input_ids\"][:2])\n",
    "print(\"type of input_ids\", type(tokenized_datasets_new[\"train\"][\"input_ids\"]))\n",
    "# print(tokenized_datasets_new[\"train\"][\"attention_mask\"][:3])\n"
   ]
  },
  {
   "cell_type": "code",
   "execution_count": 15,
   "metadata": {},
   "outputs": [
    {
     "name": "stdout",
     "output_type": "stream",
     "text": [
      "[[632, 1], [632, 1], [632, 1]]\n"
     ]
    }
   ],
   "source": [
    "print(tokenized_datasets_new[\"train\"][\"labels\"][:3])"
   ]
  },
  {
   "cell_type": "code",
   "execution_count": 18,
   "metadata": {},
   "outputs": [
    {
     "name": "stdout",
     "output_type": "stream",
     "text": [
      "unique token lengths {56}\n"
     ]
    }
   ],
   "source": [
    "token_length = [len(tokens) for tokens in tokenized_datasets_new[\"train\"][\"input_ids\"]]\n",
    "print(\"unique token lengths\", set(token_length))"
   ]
  }
 ],
 "metadata": {
  "kernelspec": {
   "display_name": "runpod",
   "language": "python",
   "name": "python3"
  },
  "language_info": {
   "codemirror_mode": {
    "name": "ipython",
    "version": 3
   },
   "file_extension": ".py",
   "mimetype": "text/x-python",
   "name": "python",
   "nbconvert_exporter": "python",
   "pygments_lexer": "ipython3",
   "version": "3.12.3"
  }
 },
 "nbformat": 4,
 "nbformat_minor": 2
}
